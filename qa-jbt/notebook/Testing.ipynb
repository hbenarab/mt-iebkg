{
 "cells": [
  {
   "cell_type": "code",
   "execution_count": 6,
   "metadata": {
    "collapsed": true
   },
   "outputs": [],
   "source": [
    "import sys; sys.path.insert(0, '../')\n",
    "\n",
    "import wikipedia_wrapper.get_article as wiki\n",
    "from qa_jbt.cache.ExtractionCache import ExtractionCache"
   ]
  },
  {
   "cell_type": "code",
   "execution_count": 2,
   "metadata": {
    "collapsed": false
   },
   "outputs": [],
   "source": [
    "cache = ExtractionCache('./')"
   ]
  },
  {
   "cell_type": "code",
   "execution_count": 4,
   "metadata": {
    "collapsed": false
   },
   "outputs": [
    {
     "data": {
      "text/plain": [
       "{'hit-rate': '0.0',\n",
       " 'hits': '0',\n",
       " 'miss-rate': '0.0',\n",
       " 'misses': '0',\n",
       " 'out-of-date': '0',\n",
       " 'requests': '0',\n",
       " 'stored_articles': '3',\n",
       " 'stored_extractions': '0',\n",
       " 'stored_items': '3'}"
      ]
     },
     "execution_count": 4,
     "metadata": {},
     "output_type": "execute_result"
    }
   ],
   "source": [
    "cache.get_statistics()"
   ]
  },
  {
   "cell_type": "code",
   "execution_count": 5,
   "metadata": {
    "collapsed": false
   },
   "outputs": [
    {
     "name": "stdout",
     "output_type": "stream",
     "text": [
      "Cache for the article 'Jupiter' is over 6 days old, you must do another extraction\n"
     ]
    }
   ],
   "source": [
    "try:\n",
    "    c_jupiter = cache.get_wiki('Jupiter', max_days=6)\n",
    "except cache.CacheMissedException as e:\n",
    "    # thrown if cache is missed\n",
    "    print(e.message)\n",
    "except cache.CacheOutOfDateException as e:\n",
    "    # thrown if the given max_days exceeds the download date\n",
    "    print(e.message)\n",
    "except cache.CacheException as e:\n",
    "    # thrown if something unspecified happend (not used)\n",
    "    print(e.message)"
   ]
  },
  {
   "cell_type": "code",
   "execution_count": 7,
   "metadata": {
    "collapsed": false
   },
   "outputs": [],
   "source": [
    "jupiter = wiki.get_content('Jupiter')\n",
    "obama = wiki.get_content('Obama')\n",
    "paris = wiki.get_content('Paris')"
   ]
  },
  {
   "cell_type": "code",
   "execution_count": 8,
   "metadata": {
    "collapsed": false
   },
   "outputs": [],
   "source": [
    "cache.put_wiki('Jupiter', jupiter)\n",
    "cache.put_wiki('Obama', obama)\n",
    "cache.put_wiki('Paris', paris)"
   ]
  },
  {
   "cell_type": "code",
   "execution_count": 9,
   "metadata": {
    "collapsed": false
   },
   "outputs": [
    {
     "data": {
      "text/plain": [
       "{'hit-rate': '0.0',\n",
       " 'hits': '0',\n",
       " 'miss-rate': '0.0',\n",
       " 'misses': '0',\n",
       " 'out-of-date': '1',\n",
       " 'requests': '1',\n",
       " 'stored_articles': '3',\n",
       " 'stored_extractions': '0',\n",
       " 'stored_items': '3'}"
      ]
     },
     "execution_count": 9,
     "metadata": {},
     "output_type": "execute_result"
    }
   ],
   "source": [
    "cache.get_statistics()"
   ]
  },
  {
   "cell_type": "code",
   "execution_count": 11,
   "metadata": {
    "collapsed": false
   },
   "outputs": [],
   "source": [
    "try:\n",
    "    c_jupiter = cache.get_wiki('Jupiter')\n",
    "except cache.CacheMissedException as e:\n",
    "    # thrown if cache is missed\n",
    "    print(e.message)\n",
    "except cache.CacheOutOfDateException as e:\n",
    "    # thrown if the given max_days exceeds the download date\n",
    "    print(e.message)\n",
    "except cache.CacheException as e:\n",
    "    # thrown if something unspecified happend (not used)\n",
    "    print(e.message)"
   ]
  },
  {
   "cell_type": "code",
   "execution_count": 16,
   "metadata": {
    "collapsed": false,
    "scrolled": true
   },
   "outputs": [],
   "source": []
  }
 ],
 "metadata": {
  "kernelspec": {
   "display_name": "Python 3",
   "language": "python",
   "name": "python3"
  },
  "language_info": {
   "codemirror_mode": {
    "name": "ipython",
    "version": 3
   },
   "file_extension": ".py",
   "mimetype": "text/x-python",
   "name": "python",
   "nbconvert_exporter": "python",
   "pygments_lexer": "ipython3",
   "version": "3.4.2"
  }
 },
 "nbformat": 4,
 "nbformat_minor": 0
}
